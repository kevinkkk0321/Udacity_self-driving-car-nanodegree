{
 "cells": [
  {
   "cell_type": "markdown",
   "metadata": {},
   "source": [
    "# Self-Driving Car Engineer Nanodegree\n",
    "\n",
    "## Deep Learning\n",
    "\n",
    "## Project: Build a Traffic Sign Recognition Classifier\n",
    "\n",
    "In this notebook, a template is provided for you to implement your functionality in stages, which is required to successfully complete this project. If additional code is required that cannot be included in the notebook, be sure that the Python code is successfully imported and included in your submission if necessary. \n",
    "\n",
    "> **Note**: Once you have completed all of the code implementations, you need to finalize your work by exporting the iPython Notebook as an HTML document. Before exporting the notebook to html, all of the code cells need to have been run so that reviewers can see the final implementation and output. You can then export the notebook by using the menu above and navigating to  \\n\",\n",
    "    \"**File -> Download as -> HTML (.html)**. Include the finished document along with this notebook as your submission. \n",
    "\n",
    "In addition to implementing code, there is a writeup to complete. The writeup should be completed in a separate file, which can be either a markdown file or a pdf document. There is a [write up template](https://github.com/udacity/CarND-Traffic-Sign-Classifier-Project/blob/master/writeup_template.md) that can be used to guide the writing process. Completing the code template and writeup template will cover all of the [rubric points](https://review.udacity.com/#!/rubrics/481/view) for this project.\n",
    "\n",
    "The [rubric](https://review.udacity.com/#!/rubrics/481/view) contains \"Stand Out Suggestions\" for enhancing the project beyond the minimum requirements. The stand out suggestions are optional. If you decide to pursue the \"stand out suggestions\", you can include the code in this Ipython notebook and also discuss the results in the writeup file.\n",
    "\n",
    "\n",
    ">**Note:** Code and Markdown cells can be executed using the **Shift + Enter** keyboard shortcut. In addition, Markdown cells can be edited by typically double-clicking the cell to enter edit mode."
   ]
  },
  {
   "cell_type": "markdown",
   "metadata": {},
   "source": [
    "---\n",
    "## Step 0: Load The Data"
   ]
  },
  {
   "cell_type": "code",
   "execution_count": 4,
   "metadata": {},
   "outputs": [
    {
     "name": "stdout",
     "output_type": "stream",
     "text": [
      "\n",
      "Image Shape: (32, 32, 3)\n",
      "\n",
      "Training Set:   34799 samples\n",
      "Validation Set: 4410 samples\n",
      "Test Set:       12630 samples\n"
     ]
    }
   ],
   "source": [
    "from tensorflow.examples.tutorials.mnist import input_data\n",
    "import pickle\n",
    "\n",
    "training_file = '../data/train.p'\n",
    "validation_file= '../data/valid.p'\n",
    "testing_file = '../data/test.p'\n",
    "\n",
    "\n",
    "with open(training_file, mode='rb') as f:\n",
    "    train = pickle.load(f)\n",
    "with open(validation_file, mode='rb') as f:\n",
    "    valid = pickle.load(f)\n",
    "with open(testing_file, mode='rb') as f:\n",
    "    test = pickle.load(f)\n",
    "    \n",
    "X_train, y_train = train['features'], train['labels']\n",
    "X_validation, y_validation = valid['features'], valid['labels']\n",
    "X_test, y_test = test['features'], test['labels']\n",
    "\n",
    "assert(len(X_train) == len(y_train))\n",
    "assert(len(X_validation) == len(y_validation))\n",
    "assert(len(X_test) == len(y_test))\n",
    "\n",
    "print()\n",
    "print(\"Image Shape: {}\".format(X_train[0].shape))\n",
    "print()\n",
    "print(\"Training Set:   {} samples\".format(len(X_train)))\n",
    "print(\"Validation Set: {} samples\".format(len(X_validation)))\n",
    "print(\"Test Set:       {} samples\".format(len(X_test)))"
   ]
  },
  {
   "cell_type": "markdown",
   "metadata": {},
   "source": [
    "---\n",
    "\n",
    "## Step 1: Dataset Summary & Exploration\n",
    "\n",
    "The pickled data is a dictionary with 4 key/value pairs:\n",
    "\n",
    "- `'features'` is a 4D array containing raw pixel data of the traffic sign images, (num examples, width, height, channels).\n",
    "- `'labels'` is a 1D array containing the label/class id of the traffic sign. The file `signnames.csv` contains id -> name mappings for each id.\n",
    "- `'sizes'` is a list containing tuples, (width, height) representing the original width and height the image.\n",
    "- `'coords'` is a list containing tuples, (x1, y1, x2, y2) representing coordinates of a bounding box around the sign in the image. **THESE COORDINATES ASSUME THE ORIGINAL IMAGE. THE PICKLED DATA CONTAINS RESIZED VERSIONS (32 by 32) OF THESE IMAGES**\n",
    "\n",
    "Complete the basic data summary below. Use python, numpy and/or pandas methods to calculate the data summary rather than hard coding the results. For example, the [pandas shape method](http://pandas.pydata.org/pandas-docs/stable/generated/pandas.DataFrame.shape.html) might be useful for calculating some of the summary results. "
   ]
  },
  {
   "cell_type": "markdown",
   "metadata": {},
   "source": [
    "### Provide a Basic Summary of the Data Set Using Python, Numpy and/or Pandas"
   ]
  },
  {
   "cell_type": "code",
   "execution_count": 5,
   "metadata": {},
   "outputs": [
    {
     "name": "stdout",
     "output_type": "stream",
     "text": [
      "Number of training examples = 34799\n",
      "Number of testing examples = 12630\n"
     ]
    },
    {
     "data": {
      "image/png": "[encoded data removed]",
      "text/plain": [
       "<matplotlib.figure.Figure at 0x7fd1029d09b0>"
      ]
     },
     "metadata": {
      "needs_background": "light"
     },
     "output_type": "display_data"
    }
   ],
   "source": [
    "### Replace each question mark with the appropriate value. \n",
    "### Use python, pandas or numpy methods rather than hard coding the results\n",
    "import numpy as np\n",
    "import pandas as pd\n",
    "import random\n",
    "import matplotlib.pyplot as plt\n",
    "\n",
    "# Number of training examples\n",
    "n_train = len(X_train)\n",
    "\n",
    "# Number of validation examples\n",
    "n_validation = len(X_validation)\n",
    "\n",
    "# Number of testing examples.\n",
    "n_test = len(X_test)\n",
    "\n",
    "# What's the shape of an traffic sign image?\n",
    "image_shape = format(X_train[0].shape)\n",
    "\n",
    "# How many unique classes/labels there are in the dataset.\n",
    "n_classes = len(set(y_train))\n",
    "\n",
    "print(\"Number of training examples =\", n_train)\n",
    "print(\"Number of testing examples =\", n_test)\n",
    "#print(\"Image data shape =\", image_shape)\n",
    "#print(\"Number of classes =\", n_classes)\n",
    "\n",
    "\n",
    "def show_labels_histogram(labels):\n",
    "    bins = len(set(labels))\n",
    "    plt.hist(labels, bins=bins)\n",
    "    plt.xlabel(\"Training Set Sample counts\")\n",
    "    plt.ylabel(\"Number of instances\")\n",
    "    plt.show()\n",
    "\n",
    "show_labels_histogram(y_train)\n"
   ]
  },
  {
   "cell_type": "markdown",
   "metadata": {},
   "source": [
    "### Include an exploratory visualization of the dataset"
   ]
  },
  {
   "cell_type": "markdown",
   "metadata": {},
   "source": [
    "Visualize the German Traffic Signs Dataset using the pickled file(s). This is open ended, suggestions include: plotting traffic sign images, plotting the count of each sign, etc. \n",
    "\n",
    "The [Matplotlib](http://matplotlib.org/) [examples](http://matplotlib.org/examples/index.html) and [gallery](http://matplotlib.org/gallery.html) pages are a great resource for doing visualizations in Python.\n",
    "\n",
    "**NOTE:** It's recommended you start with something simple first. If you wish to do more, come back to it after you've completed the rest of the sections. It can be interesting to look at the distribution of classes in the training, validation and test set. Is the distribution the same? Are there more examples of some classes than others?"
   ]
  },
  {
   "cell_type": "code",
   "execution_count": 6,
   "metadata": {},
   "outputs": [
    {
     "data": {
      "image/png": "[encoded data removed]",
      "text/plain": [
       "<matplotlib.figure.Figure at 0x7fd11d6237f0>"
      ]
     },
     "metadata": {
      "needs_background": "light"
     },
     "output_type": "display_data"
    }
   ],
   "source": [
    "### Data exploration visualization code goes here.\n",
    "### Feel free to use as many code cells as needed.\n",
    "import matplotlib.pyplot as plt\n",
    "# Visualizations will be shown in the notebook.\n",
    "%matplotlib inline\n",
    "\n",
    "\n",
    "# show image of 10 random data points\n",
    "figs, axs = plt.subplots(2, 5, figsize = (12, 5))\n",
    "figs.subplots_adjust(hspace = .2, wspace = .1)\n",
    "axs = axs.ravel()\n",
    "for i in range(10):\n",
    "    index = random.randint(0, len(X_train))\n",
    "    image = X_train[index]\n",
    "    axs[i].axis('off')\n",
    "    axs[i].imshow(image)\n",
    "    axs[i].set_title(y_train[index])"
   ]
  },
  {
   "cell_type": "markdown",
   "metadata": {},
   "source": [
    "----\n",
    "\n",
    "## Step 2: Design and Test a Model Architecture\n",
    "\n",
    "Design and implement a deep learning model that learns to recognize traffic signs. Train and test your model on the [German Traffic Sign Dataset](http://benchmark.ini.rub.de/?section=gtsrb&subsection=dataset).\n",
    "\n",
    "The LeNet-5 implementation shown in the [classroom](https://classroom.udacity.com/nanodegrees/nd013/parts/fbf77062-5703-404e-b60c-95b78b2f3f9e/modules/6df7ae49-c61c-4bb2-a23e-6527e69209ec/lessons/601ae704-1035-4287-8b11-e2c2716217ad/concepts/d4aca031-508f-4e0b-b493-e7b706120f81) at the end of the CNN lesson is a solid starting point. You'll have to change the number of classes and possibly the preprocessing, but aside from that it's plug and play! \n",
    "\n",
    "With the LeNet-5 solution from the lecture, you should expect a validation set accuracy of about 0.89. To meet specifications, the validation set accuracy will need to be at least 0.93. It is possible to get an even higher accuracy, but 0.93 is the minimum for a successful project submission. \n",
    "\n",
    "There are various aspects to consider when thinking about this problem:\n",
    "\n",
    "- Neural network architecture (is the network over or underfitting?)\n",
    "- Play around preprocessing techniques (normalization, rgb to grayscale, etc)\n",
    "- Number of examples per label (some have more than others).\n",
    "- Generate fake data.\n",
    "\n",
    "Here is an example of a [published baseline model on this problem](http://yann.lecun.com/exdb/publis/pdf/sermanet-ijcnn-11.pdf). It's not required to be familiar with the approach used in the paper but, it's good practice to try to read papers like these."
   ]
  },
  {
   "cell_type": "markdown",
   "metadata": {},
   "source": [
    "### Pre-process the Data Set (normalization, grayscale, etc.)"
   ]
  },
  {
   "cell_type": "markdown",
   "metadata": {},
   "source": [
    "Minimally, the image data should be normalized so that the data has mean zero and equal variance. For image data, `(pixel - 128)/ 128` is a quick way to approximately normalize the data and can be used in this project. \n",
    "\n",
    "Other pre-processing steps are optional. You can try different techniques to see if it improves performance. \n",
    "\n",
    "Use the code cell (or multiple code cells, if necessary) to implement the first step of your project."
   ]
  },
  {
   "cell_type": "code",
   "execution_count": 7,
   "metadata": {},
   "outputs": [],
   "source": [
    "from sklearn.utils import shuffle\n",
    "import cv2\n",
    "\n",
    "X_train, y_train = shuffle(X_train, y_train)"
   ]
  },
  {
   "cell_type": "markdown",
   "metadata": {},
   "source": [
    "## Augmenting Data set"
   ]
  },
  {
   "cell_type": "code",
   "execution_count": 8,
   "metadata": {},
   "outputs": [],
   "source": [
    "import random\n",
    "import numpy as np\n",
    "from os.path import isfile\n",
    "from collections import Counter\n",
    "import cv2\n",
    "from random import randrange\n",
    "\n",
    "# Resize\n",
    "def resize(img):\n",
    "    #s = random.uniform(0, 5)\n",
    "    fx, fy = 3, 3\n",
    "    img_test = cv2.resize(img, None, fx=0.5, fy=0.5)\n",
    "    res = cv2.resize(img_test, (32,32), fx=fx, fy=fy, interpolation=cv2.INTER_NEAREST)\n",
    "    return res\n",
    "#Rotate\n",
    "def rotate(img):\n",
    "    (h, w) = img.shape[:2]\n",
    "    scale = 1.0\n",
    "    angle = np.random.randint(-30,30)\n",
    "    center = (w / 2, h / 2)\n",
    "    M = cv2.getRotationMatrix2D(center, angle, scale)\n",
    "    rotated = cv2.warpAffine(img, M, (w, h))\n",
    "    return rotated\n",
    "\n",
    "# WarpAffine\n",
    "def warp(img):\n",
    "    M = np.array([[1, 0, random.randint(0,10)], [0, 1, random.randint(0,10)]], dtype=np.float32)\n",
    "    shift_img = cv2.warpAffine(img, M, (img.shape[1], img.shape[0]))\n",
    "    return shift_img\n",
    "\n",
    "augment_times = 4\n",
    "def Augment_data(training_data, y):\n",
    "    counter = Counter(y)\n",
    "    new_X = []\n",
    "    new_y = []\n",
    "    for i in range(len(y)):\n",
    "        label = y[i]\n",
    "        if counter[label] < 600:\n",
    "            for j in range(augment_times):\n",
    "                # random preprocess\n",
    "                dice = randrange(3)\n",
    "                if dice == 0:\n",
    "                    new_image = resize(training_data[i])\n",
    "                if dice == 1 or dice == 2:\n",
    "                    new_image = rotate(training_data[i])\n",
    "                if dice == 3:\n",
    "                    new_image = warp(training_data[i])\n",
    "                new_X.append(new_image)\n",
    "                new_y.append(label)\n",
    "                \n",
    "    new_X = np.array(new_X)\n",
    "    new_y = np.array(new_y)\n",
    "                \n",
    "    return np.array(new_X), np.array(new_y)"
   ]
  },
  {
   "cell_type": "code",
   "execution_count": 9,
   "metadata": {},
   "outputs": [
    {
     "name": "stdout",
     "output_type": "stream",
     "text": [
      "30956\n",
      "30956\n"
     ]
    },
    {
     "data": {
      "image/png": "[encoded data removed]",
      "text/plain": [
       "<matplotlib.figure.Figure at 0x7fd103bd8be0>"
      ]
     },
     "metadata": {
      "needs_background": "light"
     },
     "output_type": "display_data"
    }
   ],
   "source": [
    "X_aug, y_aug = None, None\n",
    "X_aug, y_aug = Augment_data(X_train, y_train)\n",
    "print(len(X_aug))\n",
    "print(len(y_aug))\n",
    "\n",
    "#print('X_aug.size', X_aug.size)\n",
    "#print('X_train.size: ',X_train.size)\n",
    "\n",
    "\n",
    "# show image of 10 random data points\n",
    "figs, axs = plt.subplots(2, 5, figsize = (10, 3))\n",
    "figs.subplots_adjust(hspace = .2, wspace = .1)\n",
    "axs = axs.ravel()\n",
    "for i in range(10):\n",
    "    index = random.randint(0, len(X_aug)-1)\n",
    "    image = X_aug[index]\n",
    "    axs[i].axis('off')\n",
    "    axs[i].imshow(image)\n",
    "    axs[i].set_title(y_aug[index])\n",
    "\n",
    "\n",
    "X_train_new = np.concatenate((X_train, X_aug))\n",
    "y_train_new = np.concatenate((y_train, y_aug))\n"
   ]
  },
  {
   "cell_type": "code",
   "execution_count": 10,
   "metadata": {},
   "outputs": [
    {
     "data": {
      "image/png": "[encoded data removed]",
      "text/plain": [
       "<matplotlib.figure.Figure at 0x7fd0f3c42d30>"
      ]
     },
     "metadata": {
      "needs_background": "light"
     },
     "output_type": "display_data"
    }
   ],
   "source": [
    "# Check New label histogram\n",
    "show_labels_histogram(y_train_new)\n",
    "\n",
    "\n",
    "# Back to X_train\n",
    "X_train = X_train_new\n",
    "y_train = y_train_new\n",
    "\n",
    "def normalize1(data):\n",
    "    a = -0.5\n",
    "    b = 0.5\n",
    "    data_min = 0\n",
    "    data_max = 255\n",
    "    return a + (data - data_min) * (b-a) / (data_max - data_min)\n",
    "\n",
    "def normalize2(data):\n",
    "    return data/128.0 - 1.0\n",
    "\n",
    "### Preprocess the data here. It is required to normalize the data. \n",
    "X_train = normalize2(X_train)\n",
    "X_validation = normalize2(X_validation)\n",
    "X_test = normalize2(X_test)"
   ]
  },
  {
   "cell_type": "markdown",
   "metadata": {},
   "source": [
    "### Model Architecture"
   ]
  },
  {
   "cell_type": "code",
   "execution_count": 11,
   "metadata": {},
   "outputs": [],
   "source": [
    "### Define your architecture here.\n",
    "### Feel free to use as many code cells as needed.\n",
    "import tensorflow as tf\n",
    "\n",
    "EPOCHS = 80\n",
    "BATCH_SIZE = 128 \n",
    "learning_rate = 0.0006"
   ]
  },
  {
   "cell_type": "markdown",
   "metadata": {},
   "source": [
    "### Train, Validate and Test the Model"
   ]
  },
  {
   "cell_type": "markdown",
   "metadata": {},
   "source": [
    "A validation set can be used to assess how well the model is performing. A low accuracy on the training and validation\n",
    "sets imply underfitting. A high accuracy on the training set but low accuracy on the validation set implies overfitting."
   ]
  },
  {
   "cell_type": "code",
   "execution_count": 12,
   "metadata": {},
   "outputs": [],
   "source": [
    "from tensorflow.contrib.layers import flatten\n",
    "\n",
    "def LeNet(x):    \n",
    "    # Arguments used for tf.truncated_normal, randomly defines variables for the weights and biases for each layer\n",
    "    mu = 0\n",
    "    sigma = 0.1\n",
    "    \n",
    "    # Layer 1: Convolutional. Input = 32x32x3. Output = 28x28x6.\n",
    "    conv1_w = tf.Variable(tf.truncated_normal(shape=[5,5,3,6], mean = mu, stddev = sigma))\n",
    "    conv1_b = tf.Variable(tf.zeros(6))\n",
    "    conv1 = tf.nn.conv2d(x, conv1_w, strides=[1,1,1,1], padding='VALID') + conv1_b\n",
    "    \n",
    "    # Activation.\n",
    "    conv1 = tf.nn.relu(conv1)\n",
    "\n",
    "    # Pooling. Input = 28x28x6. Output = 14x14x6.\n",
    "    conv1 = tf.nn.max_pool(conv1, ksize=[1,2,2,1], strides=[1,2,2,1], padding='VALID')\n",
    "    \n",
    "    # Layer 2: Convolutional. Output = 10x10x16.\n",
    "    conv2_w = tf.Variable(tf.truncated_normal(shape=[5,5,6,16], mean = mu, stddev = sigma))\n",
    "    conv2_b = tf.Variable(tf.zeros(16))\n",
    "    conv2 = tf.nn.conv2d(conv1, conv2_w, strides=[1,1,1,1], padding='VALID') + conv2_b\n",
    "    \n",
    "    # Activation.\n",
    "    conv2 = tf.nn.relu(conv2)\n",
    "\n",
    "    # Pooling. Input = 10x10x16. Output = 5x5x16.\n",
    "    conv2 = tf.nn.max_pool(conv2, ksize=[1,2,2,1], strides=[1,2,2,1], padding='VALID')\n",
    "\n",
    "    # Flatten. Input = 5x5x16. Output = 400.\n",
    "    conv2 = tf.contrib.layers.flatten(conv2)\n",
    "    \n",
    "    # Dropout layer 1\n",
    "    conv2 = tf.nn.dropout(conv2, 0.80)\n",
    "    \n",
    "    # Layer 3: Fully Connected. Input = 400. Output = 120.\n",
    "    fc1_w = tf.Variable(tf.truncated_normal(shape=(400, 120), mean = mu, stddev = sigma))\n",
    "    fc1_b = tf.Variable(tf.zeros(120))\n",
    "    fcl1 = tf.matmul(conv2, fc1_w) + fc1_b\n",
    "    \n",
    "    # Activation.\n",
    "    fcl1 = tf.nn.relu(fcl1)\n",
    "    \n",
    "    # Dropout layer 2\n",
    "    fcl1 = tf.nn.dropout(fcl1, 0.75)              \n",
    "    \n",
    "    # dropout with keep prob\n",
    "    #fc1_drop = tf.nn.dropout(fcl3, keep_prob=keep_prob)\n",
    "\n",
    "    # Layer 4: Fully Connected. Input = 120. Output = 84.\n",
    "    fc2_w = tf.Variable(tf.truncated_normal(shape=(120, 84), mean = mu, stddev = sigma))\n",
    "    fc2_b = tf.Variable(tf.zeros(84))\n",
    "    fcl2 = tf.matmul(fcl1, fc2_w) + fc2_b\n",
    "    \n",
    "    # Activation.\n",
    "    fcl2 = tf.nn.relu(fcl2)\n",
    "\n",
    "    # Layer 5: Fully Connected. Input = 84. Output = 43.\n",
    "    fc3_w = tf.Variable(tf.truncated_normal(shape=(84, 43), mean = mu, stddev = sigma))\n",
    "    fc3_b = tf.Variable(tf.zeros(43))\n",
    "    logits = tf.matmul(fcl2, fc3_w) + fc3_b\n",
    "    \n",
    "    return logits\n",
    "\n",
    "x = tf.placeholder(tf.float32, (None, 32, 32, 3))\n",
    "y = tf.placeholder(tf.int32, (None))\n",
    "one_hot_y = tf.one_hot(y, 43)\n",
    "\n",
    "\n",
    "logits = LeNet(x)\n",
    "cross_entropy = tf.nn.softmax_cross_entropy_with_logits(labels=one_hot_y, logits=logits)\n",
    "loss_operation = tf.reduce_mean(cross_entropy)\n",
    "optimizer = tf.train.AdamOptimizer(learning_rate = learning_rate)\n",
    "training_operation = optimizer.minimize(loss_operation)"
   ]
  },
  {
   "cell_type": "markdown",
   "metadata": {},
   "source": [
    "## Model Evaluation "
   ]
  },
  {
   "cell_type": "code",
   "execution_count": 13,
   "metadata": {},
   "outputs": [],
   "source": [
    "correct_prediction = tf.equal(tf.argmax(logits, 1), tf.argmax(one_hot_y, 1))\n",
    "accuracy_operation = tf.reduce_mean(tf.cast(correct_prediction, tf.float32))\n",
    "saver = tf.train.Saver()\n",
    "\n",
    "def evaluate(X_data, y_data):\n",
    "    num_examples = len(X_data)\n",
    "    total_accuracy = 0\n",
    "    sess = tf.get_default_session()\n",
    "    for offset in range(0, num_examples, BATCH_SIZE):\n",
    "        batch_x, batch_y = X_data[offset:offset+BATCH_SIZE], y_data[offset:offset+BATCH_SIZE]\n",
    "        accuracy = sess.run(accuracy_operation, feed_dict={x: batch_x, y: batch_y})\n",
    "        total_accuracy += (accuracy * len(batch_x))\n",
    "    return total_accuracy / num_examples"
   ]
  },
  {
   "cell_type": "code",
   "execution_count": 14,
   "metadata": {},
   "outputs": [
    {
     "name": "stdout",
     "output_type": "stream",
     "text": [
      "Training...\n",
      "\n",
      "EPOCH 1:\n",
      "Training Accuracy = 0.030\n",
      "Validation Accuracy = 0.651\n",
      "\n",
      "EPOCH 2:\n",
      "Training Accuracy = 0.716\n",
      "Validation Accuracy = 0.740\n",
      "\n",
      "EPOCH 3:\n",
      "Training Accuracy = 0.829\n",
      "Validation Accuracy = 0.798\n",
      "\n",
      "EPOCH 4:\n",
      "Training Accuracy = 0.883\n",
      "Validation Accuracy = 0.828\n",
      "\n",
      "EPOCH 5:\n",
      "Training Accuracy = 0.907\n",
      "Validation Accuracy = 0.855\n",
      "\n",
      "EPOCH 6:\n",
      "Training Accuracy = 0.924\n",
      "Validation Accuracy = 0.870\n",
      "\n",
      "EPOCH 7:\n",
      "Training Accuracy = 0.936\n",
      "Validation Accuracy = 0.863\n",
      "\n",
      "EPOCH 8:\n",
      "Training Accuracy = 0.940\n",
      "Validation Accuracy = 0.881\n",
      "\n",
      "EPOCH 9:\n",
      "Training Accuracy = 0.950\n",
      "Validation Accuracy = 0.886\n",
      "\n",
      "EPOCH 10:\n",
      "Training Accuracy = 0.958\n",
      "Validation Accuracy = 0.892\n",
      "\n",
      "EPOCH 11:\n",
      "Training Accuracy = 0.960\n",
      "Validation Accuracy = 0.879\n",
      "\n",
      "EPOCH 12:\n",
      "Training Accuracy = 0.962\n",
      "Validation Accuracy = 0.894\n",
      "\n",
      "EPOCH 13:\n",
      "Training Accuracy = 0.964\n",
      "Validation Accuracy = 0.901\n",
      "\n",
      "EPOCH 14:\n",
      "Training Accuracy = 0.968\n",
      "Validation Accuracy = 0.901\n",
      "\n",
      "EPOCH 15:\n",
      "Training Accuracy = 0.969\n",
      "Validation Accuracy = 0.909\n",
      "\n",
      "EPOCH 16:\n",
      "Training Accuracy = 0.969\n",
      "Validation Accuracy = 0.905\n",
      "\n",
      "EPOCH 17:\n",
      "Training Accuracy = 0.973\n",
      "Validation Accuracy = 0.905\n",
      "\n",
      "EPOCH 18:\n",
      "Training Accuracy = 0.974\n",
      "Validation Accuracy = 0.905\n",
      "\n",
      "EPOCH 19:\n",
      "Training Accuracy = 0.976\n",
      "Validation Accuracy = 0.915\n",
      "\n",
      "EPOCH 20:\n",
      "Training Accuracy = 0.974\n",
      "Validation Accuracy = 0.904\n",
      "\n",
      "EPOCH 21:\n",
      "Training Accuracy = 0.975\n",
      "Validation Accuracy = 0.909\n",
      "\n",
      "EPOCH 22:\n",
      "Training Accuracy = 0.975\n",
      "Validation Accuracy = 0.919\n",
      "\n",
      "EPOCH 23:\n",
      "Training Accuracy = 0.980\n",
      "Validation Accuracy = 0.912\n",
      "\n",
      "EPOCH 24:\n",
      "Training Accuracy = 0.977\n",
      "Validation Accuracy = 0.916\n",
      "\n",
      "EPOCH 25:\n",
      "Training Accuracy = 0.979\n",
      "Validation Accuracy = 0.912\n",
      "\n",
      "EPOCH 26:\n",
      "Training Accuracy = 0.977\n",
      "Validation Accuracy = 0.920\n",
      "\n",
      "EPOCH 27:\n",
      "Training Accuracy = 0.981\n",
      "Validation Accuracy = 0.920\n",
      "\n",
      "EPOCH 28:\n",
      "Training Accuracy = 0.982\n",
      "Validation Accuracy = 0.917\n",
      "\n",
      "EPOCH 29:\n",
      "Training Accuracy = 0.981\n",
      "Validation Accuracy = 0.920\n",
      "\n",
      "EPOCH 30:\n",
      "Training Accuracy = 0.980\n",
      "Validation Accuracy = 0.919\n",
      "\n",
      "EPOCH 31:\n",
      "Training Accuracy = 0.985\n",
      "Validation Accuracy = 0.918\n",
      "\n",
      "EPOCH 32:\n",
      "Training Accuracy = 0.984\n",
      "Validation Accuracy = 0.911\n",
      "\n",
      "EPOCH 33:\n",
      "Training Accuracy = 0.984\n",
      "Validation Accuracy = 0.921\n",
      "\n",
      "EPOCH 34:\n",
      "Training Accuracy = 0.985\n",
      "Validation Accuracy = 0.920\n",
      "\n",
      "EPOCH 35:\n",
      "Training Accuracy = 0.985\n",
      "Validation Accuracy = 0.925\n",
      "\n",
      "EPOCH 36:\n",
      "Training Accuracy = 0.985\n",
      "Validation Accuracy = 0.913\n",
      "\n",
      "EPOCH 37:\n",
      "Training Accuracy = 0.985\n",
      "Validation Accuracy = 0.919\n",
      "\n",
      "EPOCH 38:\n",
      "Training Accuracy = 0.985\n",
      "Validation Accuracy = 0.917\n",
      "\n",
      "EPOCH 39:\n",
      "Training Accuracy = 0.985\n",
      "Validation Accuracy = 0.919\n",
      "\n",
      "EPOCH 40:\n",
      "Training Accuracy = 0.985\n",
      "Validation Accuracy = 0.925\n",
      "\n",
      "EPOCH 41:\n",
      "Training Accuracy = 0.987\n",
      "Validation Accuracy = 0.911\n",
      "\n",
      "EPOCH 42:\n",
      "Training Accuracy = 0.981\n",
      "Validation Accuracy = 0.920\n",
      "\n",
      "EPOCH 43:\n",
      "Training Accuracy = 0.985\n",
      "Validation Accuracy = 0.926\n",
      "\n",
      "EPOCH 44:\n",
      "Training Accuracy = 0.984\n",
      "Validation Accuracy = 0.930\n",
      "\n",
      "EPOCH 45:\n",
      "Training Accuracy = 0.987\n",
      "Validation Accuracy = 0.922\n",
      "\n",
      "EPOCH 46:\n",
      "Training Accuracy = 0.986\n",
      "Validation Accuracy = 0.921\n",
      "\n",
      "EPOCH 47:\n",
      "Training Accuracy = 0.986\n",
      "Validation Accuracy = 0.928\n",
      "\n",
      "EPOCH 48:\n",
      "Training Accuracy = 0.988\n",
      "Validation Accuracy = 0.928\n",
      "\n",
      "EPOCH 49:\n",
      "Training Accuracy = 0.989\n",
      "Validation Accuracy = 0.928\n",
      "\n",
      "EPOCH 50:\n",
      "Training Accuracy = 0.987\n",
      "Validation Accuracy = 0.929\n",
      "\n",
      "EPOCH 51:\n",
      "Training Accuracy = 0.987\n",
      "Validation Accuracy = 0.937\n",
      "\n",
      "EPOCH 52:\n",
      "Training Accuracy = 0.989\n",
      "Validation Accuracy = 0.926\n",
      "\n",
      "EPOCH 53:\n",
      "Training Accuracy = 0.987\n",
      "Validation Accuracy = 0.932\n",
      "\n",
      "EPOCH 54:\n",
      "Training Accuracy = 0.989\n",
      "Validation Accuracy = 0.920\n",
      "\n",
      "EPOCH 55:\n",
      "Training Accuracy = 0.986\n",
      "Validation Accuracy = 0.926\n",
      "\n",
      "EPOCH 56:\n",
      "Training Accuracy = 0.988\n",
      "Validation Accuracy = 0.933\n",
      "\n",
      "EPOCH 57:\n",
      "Training Accuracy = 0.989\n",
      "Validation Accuracy = 0.930\n",
      "\n",
      "EPOCH 58:\n",
      "Training Accuracy = 0.989\n",
      "Validation Accuracy = 0.932\n",
      "\n",
      "EPOCH 59:\n",
      "Training Accuracy = 0.988\n",
      "Validation Accuracy = 0.921\n",
      "\n",
      "EPOCH 60:\n",
      "Training Accuracy = 0.987\n",
      "Validation Accuracy = 0.932\n",
      "\n",
      "EPOCH 61:\n",
      "Training Accuracy = 0.989\n",
      "Validation Accuracy = 0.936\n",
      "\n",
      "EPOCH 62:\n",
      "Training Accuracy = 0.990\n",
      "Validation Accuracy = 0.934\n",
      "\n",
      "EPOCH 63:\n",
      "Training Accuracy = 0.990\n",
      "Validation Accuracy = 0.922\n",
      "\n",
      "EPOCH 64:\n",
      "Training Accuracy = 0.989\n",
      "Validation Accuracy = 0.933\n",
      "\n",
      "EPOCH 65:\n",
      "Training Accuracy = 0.990\n",
      "Validation Accuracy = 0.931\n",
      "\n",
      "EPOCH 66:\n",
      "Training Accuracy = 0.989\n",
      "Validation Accuracy = 0.928\n",
      "\n",
      "EPOCH 67:\n",
      "Training Accuracy = 0.990\n",
      "Validation Accuracy = 0.931\n",
      "\n",
      "EPOCH 68:\n",
      "Training Accuracy = 0.986\n",
      "Validation Accuracy = 0.935\n",
      "\n",
      "EPOCH 69:\n",
      "Training Accuracy = 0.990\n",
      "Validation Accuracy = 0.928\n",
      "\n",
      "EPOCH 70:\n",
      "Training Accuracy = 0.990\n",
      "Validation Accuracy = 0.932\n",
      "\n",
      "EPOCH 71:\n",
      "Training Accuracy = 0.990\n",
      "Validation Accuracy = 0.927\n",
      "\n",
      "EPOCH 72:\n",
      "Training Accuracy = 0.989\n",
      "Validation Accuracy = 0.934\n",
      "\n",
      "EPOCH 73:\n",
      "Training Accuracy = 0.988\n",
      "Validation Accuracy = 0.933\n",
      "\n",
      "EPOCH 74:\n",
      "Training Accuracy = 0.990\n",
      "Validation Accuracy = 0.929\n",
      "\n",
      "EPOCH 75:\n",
      "Training Accuracy = 0.989\n",
      "Validation Accuracy = 0.929\n",
      "\n",
      "EPOCH 76:\n",
      "Training Accuracy = 0.988\n",
      "Validation Accuracy = 0.932\n",
      "\n",
      "EPOCH 77:\n",
      "Training Accuracy = 0.989\n",
      "Validation Accuracy = 0.932\n",
      "\n",
      "EPOCH 78:\n",
      "Training Accuracy = 0.990\n",
      "Validation Accuracy = 0.934\n",
      "\n",
      "EPOCH 79:\n",
      "Training Accuracy = 0.991\n",
      "Validation Accuracy = 0.932\n",
      "\n",
      "EPOCH 80:\n",
      "Training Accuracy = 0.989\n",
      "Validation Accuracy = 0.933\n",
      "\n",
      "Model saved\n"
     ]
    }
   ],
   "source": [
    "with tf.Session() as sess:\n",
    "    sess.run(tf.global_variables_initializer())\n",
    "    num_examples = len(X_train)\n",
    "    \n",
    "    train_accuracy = []\n",
    "    \n",
    "    print(\"Training...\")\n",
    "    print()\n",
    "    for i in range(EPOCHS):\n",
    "        X_train, y_train = shuffle(X_train, y_train)\n",
    "        for offset in range(0, num_examples, BATCH_SIZE):\n",
    "            end = offset + BATCH_SIZE\n",
    "            batch_x, batch_y = X_train[offset:end], y_train[offset:end]\n",
    "            sess.run(training_operation, feed_dict={x: batch_x, y: batch_y})\n",
    "            if offset==BATCH_SIZE:\n",
    "                training_accuracy = evaluate(X_train, y_train)\n",
    "                print(\"EPOCH {}:\".format(i+1))\n",
    "                print(\"Training Accuracy = {:.3f}\".format(training_accuracy))\n",
    "        \n",
    "\n",
    "        t_acc = evaluate(X_train, y_train)\n",
    "        v_acc = evaluate(X_test, y_test)\n",
    "        train_accuracy.append(t_acc)\n",
    "        validation_accuracy = evaluate(X_validation, y_validation)\n",
    "        print(\"Validation Accuracy = {:.3f}\".format(validation_accuracy))\n",
    "        print()\n",
    "        \n",
    "    saver.save(sess, './lenet')\n",
    "    print(\"Model saved\")"
   ]
  },
  {
   "cell_type": "code",
   "execution_count": 17,
   "metadata": {},
   "outputs": [
    {
     "data": {
      "text/plain": [
       "[<matplotlib.lines.Line2D at 0x7fd102c5e940>]"
      ]
     },
     "execution_count": 17,
     "metadata": {},
     "output_type": "execute_result"
    },
    {
     "data": {
      "image/png": "[encoded data removed]",
      "text/plain": [
       "<matplotlib.figure.Figure at 0x7fd1045f09e8>"
      ]
     },
     "metadata": {
      "needs_background": "light"
     },
     "output_type": "display_data"
    }
   ],
   "source": [
    "plt.xlabel(\"Epoch\")\n",
    "plt.ylabel(\"Accuracy\")\n",
    "plt.plot(train_accuracy)"
   ]
  },
  {
   "cell_type": "code",
   "execution_count": 18,
   "metadata": {},
   "outputs": [
    {
     "name": "stdout",
     "output_type": "stream",
     "text": [
      "Test Accuracy = 0.574\n",
      "Test Accuracy = 0.867\n",
      "Test Accuracy = 0.885\n",
      "Test Accuracy = 0.900\n",
      "Test Accuracy = 0.909\n",
      "Test Accuracy = 0.908\n",
      "Test Accuracy = 0.913\n",
      "Test Accuracy = 0.911\n"
     ]
    }
   ],
   "source": [
    "### Test data\n",
    "with tf.Session() as sess:\n",
    "    sess.run(tf.global_variables_initializer())\n",
    "    num_examples = len(X_train)\n",
    "    \n",
    "    #print(\"Training...\")\n",
    "    #print()\n",
    "    for i in range(EPOCHS):\n",
    "        X_train, y_train = shuffle(X_train, y_train)\n",
    "        for offset in range(0, num_examples, BATCH_SIZE):\n",
    "            end = offset + BATCH_SIZE\n",
    "            batch_x, batch_y = X_train[offset:end], y_train[offset:end]\n",
    "            sess.run(training_operation, feed_dict={x: batch_x, y: batch_y})\n",
    "            if offset==BATCH_SIZE and i%10 == 0:\n",
    "                training_accuracy = evaluate(X_train, y_train)\n",
    "                #print(\"EPOCH {} ...\".format(i+1))\n",
    "                #print(\"Training Accuracy = {:.3f}\".format(training_accuracy))\n",
    "        if i%10 == 0:\n",
    "            #print(\"EPOCH {} ...\".format(i+1))\n",
    "            test_accuracy = evaluate(X_test, y_test)\n",
    "            print(\"Test Accuracy = {:.3f}\".format(test_accuracy))\n",
    "            #print()\n",
    "        \n",
    "    #saver.save(sess, './lenet')\n",
    "    #print(\"Model saved\")"
   ]
  },
  {
   "cell_type": "markdown",
   "metadata": {},
   "source": [
    "---\n",
    "\n",
    "## Step 3: Test a Model on New Images\n",
    "\n",
    "To give yourself more insight into how your model is working, download at least five pictures of German traffic signs from the web and use your model to predict the traffic sign type.\n",
    "\n",
    "You may find `signnames.csv` useful as it contains mappings from the class id (integer) to the actual sign name."
   ]
  },
  {
   "cell_type": "markdown",
   "metadata": {},
   "source": [
    "### Load and Output the Images"
   ]
  },
  {
   "cell_type": "code",
   "execution_count": 27,
   "metadata": {},
   "outputs": [
    {
     "name": "stdout",
     "output_type": "stream",
     "text": [
      "origin image shape: (480, 640, 3)\n",
      "origin image shape: (450, 600, 3)\n",
      "origin image shape: (216, 216, 3)\n",
      "origin image shape: (1065, 1065, 3)\n",
      "origin image shape: (120, 120, 3)\n"
     ]
    },
    {
     "data": {
      "image/png": "[encoded data removed]",
      "text/plain": [
       "<matplotlib.figure.Figure at 0x7fd0f89be0f0>"
      ]
     },
     "metadata": {
      "needs_background": "light"
     },
     "output_type": "display_data"
    }
   ],
   "source": [
    "### Load the images and plot them here.\n",
    "### Feel free to use as many code cells as needed.\n",
    "\n",
    "new_images = [\n",
    "    ('./web_images/No_entry_17.jpg', 17),\n",
    "    ('./web_images/Road_work_25.jpg', 25),\n",
    "    ('./web_images/General_caution_18.png', 18),\n",
    "    ('./web_images/stop_14.png', 14),\n",
    "    ('./web_images/bumpy_square_22.png', 22),\n",
    "]\n",
    "\n",
    "new_images_data = []\n",
    "new_labels_data = []\n",
    "\n",
    "for img_path, label in new_images:\n",
    "    imgBGR = cv2.imread(img_path)\n",
    "    imgRGB = cv2.cvtColor(imgBGR, cv2.COLOR_BGR2RGB)\n",
    "    #plt.imshow(imgRGB)\n",
    "    print('origin image shape:', imgBGR.shape)\n",
    "    imgResize = cv2.resize(imgRGB, (32, 32))\n",
    "    #print('resized image shape:', imgResize.shape)\n",
    "    new_images_data.append(imgResize)\n",
    "    new_labels_data.append(label)\n",
    "\n",
    "\n",
    "figs, axs = plt.subplots(1, 5, figsize = (12, 5))\n",
    "figs.subplots_adjust(hspace = .2, wspace = .1)\n",
    "axs = axs.ravel()\n",
    "for i in range(5):\n",
    "    image = new_images_data[i]\n",
    "    axs[i].axis('off')\n",
    "    axs[i].imshow(image)\n",
    "    axs[i].set_title(new_labels_data[i])\n",
    "\n",
    "# new_images_data = np.asarray(new_images_data)\n",
    "#new_images_data = normalize2(np.array(new_images_data))\n",
    "# print(new_images_data.shape)\n",
    "#new_images_data = new_images_data / 128.0"
   ]
  },
  {
   "cell_type": "markdown",
   "metadata": {},
   "source": [
    "### Predict the Sign Type for Each Image"
   ]
  },
  {
   "cell_type": "code",
   "execution_count": 28,
   "metadata": {},
   "outputs": [
    {
     "name": "stdout",
     "output_type": "stream",
     "text": [
      "INFO:tensorflow:Restoring parameters from ./lenet\n",
      "New Test Set Accuracy = 0.800\n"
     ]
    }
   ],
   "source": [
    "### Run the predictions here and use the model to output the prediction for each image.\n",
    "### Make sure to pre-process the images with the same pre-processing pipeline used earlier.\n",
    "### Feel free to use as many code cells as needed.\n",
    "\n",
    "#new_images_data.tolist()\n",
    "\n",
    "#Run predict\n",
    "with tf.Session() as sess:\n",
    "    saver_new2 = tf.train.import_meta_graph('./lenet.meta')\n",
    "    saver_new2.restore(sess, \"./lenet\")\n",
    "\n",
    "    test_accuracy = evaluate(new_images_data, new_labels_data)\n",
    "    softmax_prob = sess.run(tf.nn.softmax(logits), feed_dict={x: new_images_data})\n",
    "    top5_prob = sess.run(tf.nn.top_k(softmax_prob, k = 5))\n",
    "\n",
    "    ### Calculate the accuracy for these 5 new images. \n",
    "    print(\"New Test Set Accuracy = {:.3f}\".format(test_accuracy))"
   ]
  },
  {
   "cell_type": "markdown",
   "metadata": {},
   "source": [
    "### Output Top 5 Softmax Probabilities For Each Image Found on the Web"
   ]
  },
  {
   "cell_type": "markdown",
   "metadata": {},
   "source": [
    "For each of the new images, print out the model's softmax probabilities to show the **certainty** of the model's predictions (limit the output to the top 5 probabilities for each image). [`tf.nn.top_k`](https://www.tensorflow.org/versions/r0.12/api_docs/python/nn.html#top_k) could prove helpful here. \n",
    "\n",
    "The example below demonstrates how tf.nn.top_k can be used to find the top k predictions for each image.\n",
    "\n",
    "`tf.nn.top_k` will return the values and indices (class ids) of the top k predictions. So if k=3, for each sign, it'll return the 3 largest probabilities (out of a possible 43) and the correspoding class ids.\n",
    "\n",
    "Take this numpy array as an example. The values in the array represent predictions. The array contains softmax probabilities for five candidate images with six possible classes. `tf.nn.top_k` is used to choose the three classes with the highest probability:\n",
    "\n",
    "```\n",
    "# (5, 6) array\n",
    "a = np.array([[ 0.24879643,  0.07032244,  0.12641572,  0.34763842,  0.07893497,\n",
    "         0.12789202],\n",
    "       [ 0.28086119,  0.27569815,  0.08594638,  0.0178669 ,  0.18063401,\n",
    "         0.15899337],\n",
    "       [ 0.26076848,  0.23664738,  0.08020603,  0.07001922,  0.1134371 ,\n",
    "         0.23892179],\n",
    "       [ 0.11943333,  0.29198961,  0.02605103,  0.26234032,  0.1351348 ,\n",
    "         0.16505091],\n",
    "       [ 0.09561176,  0.34396535,  0.0643941 ,  0.16240774,  0.24206137,\n",
    "         0.09155967]])\n",
    "```\n",
    "\n",
    "Running it through `sess.run(tf.nn.top_k(tf.constant(a), k=3))` produces:\n",
    "\n",
    "```\n",
    "TopKV2(values=array([[ 0.34763842,  0.24879643,  0.12789202],\n",
    "       [ 0.28086119,  0.27569815,  0.18063401],\n",
    "       [ 0.26076848,  0.23892179,  0.23664738],\n",
    "       [ 0.29198961,  0.26234032,  0.16505091],\n",
    "       [ 0.34396535,  0.24206137,  0.16240774]]), indices=array([[3, 0, 5],\n",
    "       [0, 1, 4],\n",
    "       [0, 5, 1],\n",
    "       [1, 3, 5],\n",
    "       [1, 4, 3]], dtype=int32))\n",
    "```\n",
    "\n",
    "Looking just at the first row we get `[ 0.34763842,  0.24879643,  0.12789202]`, you can confirm these are the 3 largest probabilities in `a`. You'll also notice `[3, 0, 5]` are the corresponding indices."
   ]
  },
  {
   "cell_type": "code",
   "execution_count": 29,
   "metadata": {},
   "outputs": [
    {
     "data": {
      "image/png": "[encoded data removed]",
      "text/plain": [
       "<matplotlib.figure.Figure at 0x7fd0f8a2ca20>"
      ]
     },
     "metadata": {
      "needs_background": "light"
     },
     "output_type": "display_data"
    }
   ],
   "source": [
    "### Print out the top five softmax probabilities for the predictions on the German traffic sign images found on the web. \n",
    "### Feel free to use as many code cells as needed.\n",
    "plt.figure(figsize = (8, 16))\n",
    "for i in range(5):\n",
    "    plt.subplot(5, 2, 2*i+1)\n",
    "    plt.imshow(new_images_data[i].squeeze(), cmap = 'gray') \n",
    "    plt.title(new_labels_data[i])\n",
    "    plt.axis('off')\n",
    "    plt.subplot(5, 2, 2*i+2)\n",
    "    plt.barh(np.arange(1, 6, 1), top5_prob.values[i, :])\n",
    "    plt.ylabel(\"Class\")\n",
    "    plt.xlabel(\"Probability\")\n",
    "    labs = top5_prob.indices[i]\n",
    "    plt.yticks(np.arange(1, 6, 1), labs)\n",
    "plt.show()\n"
   ]
  },
  {
   "cell_type": "markdown",
   "metadata": {},
   "source": [
    "### Project Writeup\n",
    "\n",
    "Once you have completed the code implementation, document your results in a project writeup using this [template](https://github.com/udacity/CarND-Traffic-Sign-Classifier-Project/blob/master/writeup_template.md) as a guide. The writeup can be in a markdown or pdf file. "
   ]
  },
  {
   "cell_type": "markdown",
   "metadata": {},
   "source": [
    "> **Note**: Once you have completed all of the code implementations and successfully answered each question above, you may finalize your work by exporting the iPython Notebook as an HTML document. You can do this by using the menu above and navigating to  \\n\",\n",
    "    \"**File -> Download as -> HTML (.html)**. Include the finished document along with this notebook as your submission."
   ]
  },
  {
   "cell_type": "markdown",
   "metadata": {},
   "source": [
    "---\n",
    "\n",
    "## Step 4 (Optional): Visualize the Neural Network's State with Test Images\n",
    "\n",
    " This Section is not required to complete but acts as an additional excersise for understaning the output of a neural network's weights. While neural networks can be a great learning device they are often referred to as a black box. We can understand what the weights of a neural network look like better by plotting their feature maps. After successfully training your neural network you can see what it's feature maps look like by plotting the output of the network's weight layers in response to a test stimuli image. From these plotted feature maps, it's possible to see what characteristics of an image the network finds interesting. For a sign, maybe the inner network feature maps react with high activation to the sign's boundary outline or to the contrast in the sign's painted symbol.\n",
    "\n",
    " Provided for you below is the function code that allows you to get the visualization output of any tensorflow weight layer you want. The inputs to the function should be a stimuli image, one used during training or a new one you provided, and then the tensorflow variable name that represents the layer's state during the training process, for instance if you wanted to see what the [LeNet lab's](https://classroom.udacity.com/nanodegrees/nd013/parts/fbf77062-5703-404e-b60c-95b78b2f3f9e/modules/6df7ae49-c61c-4bb2-a23e-6527e69209ec/lessons/601ae704-1035-4287-8b11-e2c2716217ad/concepts/d4aca031-508f-4e0b-b493-e7b706120f81) feature maps looked like for it's second convolutional layer you could enter conv2 as the tf_activation variable.\n",
    "\n",
    "For an example of what feature map outputs look like, check out NVIDIA's results in their paper [End-to-End Deep Learning for Self-Driving Cars](https://devblogs.nvidia.com/parallelforall/deep-learning-self-driving-cars/) in the section Visualization of internal CNN State. NVIDIA was able to show that their network's inner weights had high activations to road boundary lines by comparing feature maps from an image with a clear path to one without. Try experimenting with a similar test to show that your trained network's weights are looking for interesting features, whether it's looking at differences in feature maps from images with or without a sign, or even what feature maps look like in a trained network vs a completely untrained one on the same sign image.\n",
    "\n",
    "<figure>\n",
    " <img src=\"visualize_cnn.png\" width=\"380\" alt=\"Combined Image\" />\n",
    " <figcaption>\n",
    " <p></p> \n",
    " <p style=\"text-align: center;\"> Your output should look something like this (above)</p> \n",
    " </figcaption>\n",
    "</figure>\n",
    " <p></p> \n"
   ]
  },
  {
   "cell_type": "code",
   "execution_count": 30,
   "metadata": {},
   "outputs": [],
   "source": [
    "### Visualize your network's feature maps here.\n",
    "### Feel free to use as many code cells as needed.\n",
    "\n",
    "# image_input: the test image being fed into the network to produce the feature maps\n",
    "# tf_activation: should be a tf variable name used during your training procedure that represents the calculated state of a specific weight layer\n",
    "# activation_min/max: can be used to view the activation contrast in more detail, by default matplot sets min and max to the actual min and max values of the output\n",
    "# plt_num: used to plot out multiple different weight feature map sets on the same block, just extend the plt number for each new feature map entry\n",
    "\n",
    "def outputFeatureMap(image_input, tf_activation, activation_min=-1, activation_max=-1 ,plt_num=1):\n",
    "    # Here make sure to preprocess your image_input in a way your network expects\n",
    "    # with size, normalization, ect if needed\n",
    "    # image_input =\n",
    "    # Note: x should be the same name as your network's tensorflow data placeholder variable\n",
    "    # If you get an error tf_activation is not defined it may be having trouble accessing the variable from inside a function\n",
    "    activation = tf_activation.eval(session=sess,feed_dict={x : image_input})\n",
    "    featuremaps = activation.shape[3]\n",
    "    plt.figure(plt_num, figsize=(15,15))\n",
    "    for featuremap in range(featuremaps):\n",
    "        plt.subplot(6,8, featuremap+1) # sets the number of feature maps to show on each row and column\n",
    "        plt.title('FeatureMap ' + str(featuremap)) # displays the feature map number\n",
    "        if activation_min != -1 & activation_max != -1:\n",
    "            plt.imshow(activation[0,:,:, featuremap], interpolation=\"nearest\", vmin =activation_min, vmax=activation_max, cmap=\"gray\")\n",
    "        elif activation_max != -1:\n",
    "            plt.imshow(activation[0,:,:, featuremap], interpolation=\"nearest\", vmax=activation_max, cmap=\"gray\")\n",
    "        elif activation_min !=-1:\n",
    "            plt.imshow(activation[0,:,:, featuremap], interpolation=\"nearest\", vmin=activation_min, cmap=\"gray\")\n",
    "        else:\n",
    "            plt.imshow(activation[0,:,:, featuremap], interpolation=\"nearest\", cmap=\"gray\")"
   ]
  },
  {
   "cell_type": "code",
   "execution_count": null,
   "metadata": {},
   "outputs": [],
   "source": []
  }
 ],
 "metadata": {
  "anaconda-cloud": {},
  "kernelspec": {
   "display_name": "Python 3",
   "language": "python",
   "name": "python3"
  },
  "language_info": {
   "codemirror_mode": {
    "name": "ipython",
    "version": 3
   },
   "file_extension": ".py",
   "mimetype": "text/x-python",
   "name": "python",
   "nbconvert_exporter": "python",
   "pygments_lexer": "ipython3",
   "version": "3.6.3"
  }
 },
 "nbformat": 4,
 "nbformat_minor": 1
}
